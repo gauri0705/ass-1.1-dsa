{
 "cells": [
  {
   "cell_type": "code",
   "execution_count": 7,
   "id": "78f0272a",
   "metadata": {},
   "outputs": [
    {
     "name": "stdout",
     "output_type": "stream",
     "text": [
      "-5+25=20\n",
      "9+11=20\n",
      "8+12=20\n"
     ]
    }
   ],
   "source": [
    "#Q1. Write a program to find all pairs of an integer array whose sum is equal to a given number?\n",
    "numbers=[4,-5,9,25,11,13,8,12]\n",
    "n=20\n",
    "for i in range(len(numbers)-1):\n",
    "    for j in range(i+1,len(numbers)):\n",
    "        a=numbers[i]\n",
    "        b=numbers[j]\n",
    "        \n",
    "        if a+b==n:\n",
    "           print(f\"{a}+{b}={n}\")"
   ]
  },
  {
   "cell_type": "code",
   "execution_count": null,
   "id": "60d5bbdf",
   "metadata": {},
   "outputs": [],
   "source": [
    "#Q2. Write a program to reverse an array in place? In place means you cannot create a new array. You have to \n",
    "#update the original array.\n",
    "def reverse(array, n):\n",
    "    start=0\n",
    "    end=n-1\n",
    "    while(start<end):\n",
    "        temp=array[start]\n",
    "        array[start]=array[end]\n",
    "        array[end]=temp\n",
    "        start+=1\n",
    "        end-=1\n",
    "        return array\n",
    "def main():\n",
    "    n=int(input())\n",
    "    array=[]\n",
    "    for i in range(n):\n",
    "        var=int(input())\n",
    "        array.append(var)\n",
    "        array=reverse(array,n)\n",
    "        for i in range(n):\n",
    "            print(array[i],end=\"\")        \n",
    "main()"
   ]
  },
  {
   "cell_type": "code",
   "execution_count": 2,
   "id": "ae9516d4",
   "metadata": {},
   "outputs": [
    {
     "name": "stdout",
     "output_type": "stream",
     "text": [
      "enter string 1 for check rotation each other: cdad\n",
      "enter string 2 for check rotation each other: cdad\n",
      "Strings are rotations of each other\n"
     ]
    }
   ],
   "source": [
    "#Q3. Write a program to check if two strings are a rotation of each other?\n",
    "def Rotations(string1, string2):\n",
    "    size1 = len(string1)\n",
    "    size2 = len(string2)\n",
    "    temp = ''\n",
    "    if size1 != size2:\n",
    "        return 0\n",
    "    temp = string1 + string1\n",
    "    if (temp.count(string2)> 0):\n",
    "        return 1\n",
    "    else:\n",
    "        return 0\n",
    "\n",
    "string1 = input(\"enter string 1 for check rotation each other: \")\n",
    "string2 = input(\"enter string 2 for check rotation each other: \")\n",
    " \n",
    "if Rotations(string1, string2):\n",
    "    print (\"Strings are rotations of each other\")\n",
    "else:\n",
    "    print (\"Strings are not rotations of each other\")"
   ]
  },
  {
   "cell_type": "code",
   "execution_count": 15,
   "id": "081d935c",
   "metadata": {},
   "outputs": [
    {
     "name": "stdout",
     "output_type": "stream",
     "text": [
      "P\n"
     ]
    }
   ],
   "source": [
    "#Q4. Write a program to print the first non-repeated character from a string?\n",
    "def first_Non_Repeating_Char(str1):\n",
    "    char_order = []\n",
    "    counts={}\n",
    "    for i in str1:\n",
    "        if i in counts:\n",
    "            counts[i] += 1\n",
    "        else:\n",
    "            counts[i] = 1\n",
    "            char_order.append(i)\n",
    "    for i in char_order:\n",
    "        if counts[i] == 1:\n",
    "              return i\n",
    "    return None\n",
    "print(first_Non_Repeating_Char('Python is easy language'))\n",
    "\n"
   ]
  },
  {
   "cell_type": "code",
   "execution_count": 16,
   "id": "3af1b4c8",
   "metadata": {},
   "outputs": [
    {
     "name": "stdout",
     "output_type": "stream",
     "text": [
      "Move disk 1 from rod A to rod B\n",
      "Move disk 2 from rod A to rod C\n",
      "Move disk 1 from rod B to rod C\n",
      "Move disk 3 from rod A to rod B\n",
      "Move disk 1 from rod C to rod A\n",
      "Move disk 2 from rod C to rod B\n",
      "Move disk 1 from rod A to rod B\n",
      "Move disk 4 from rod A to rod C\n",
      "Move disk 1 from rod B to rod C\n",
      "Move disk 2 from rod B to rod A\n",
      "Move disk 1 from rod C to rod A\n",
      "Move disk 3 from rod B to rod C\n",
      "Move disk 1 from rod A to rod B\n",
      "Move disk 2 from rod A to rod C\n",
      "Move disk 1 from rod B to rod C\n"
     ]
    }
   ],
   "source": [
    "#Q5. Read about the Tower of Hanoi algorithm. Write a program to implement it.\n",
    "def TowerOfHanoi(n , from_rod, to_rod, aux_rod):\n",
    "    if n == 0:\n",
    "        return\n",
    "    TowerOfHanoi(n-1, from_rod, aux_rod, to_rod)\n",
    "    print(\"Move disk\",n,\"from rod\",from_rod,\"to rod\",to_rod)\n",
    "    TowerOfHanoi(n-1, aux_rod, to_rod, from_rod)\n",
    "         \n",
    "\n",
    "n = 4\n",
    "TowerOfHanoi(n, 'A', 'C', 'B')\n"
   ]
  },
  {
   "cell_type": "code",
   "execution_count": null,
   "id": "25b4aa46",
   "metadata": {},
   "outputs": [],
   "source": []
  }
 ],
 "metadata": {
  "kernelspec": {
   "display_name": "Python 3 (ipykernel)",
   "language": "python",
   "name": "python3"
  },
  "language_info": {
   "codemirror_mode": {
    "name": "ipython",
    "version": 3
   },
   "file_extension": ".py",
   "mimetype": "text/x-python",
   "name": "python",
   "nbconvert_exporter": "python",
   "pygments_lexer": "ipython3",
   "version": "3.9.13"
  }
 },
 "nbformat": 4,
 "nbformat_minor": 5
}
